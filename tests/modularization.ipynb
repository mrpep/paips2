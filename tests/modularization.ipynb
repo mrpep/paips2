{
 "cells": [
  {
   "cell_type": "code",
   "execution_count": 18,
   "id": "pacific-bulgarian",
   "metadata": {},
   "outputs": [],
   "source": [
    "from kahnfigh import Config\n",
    "from kahnfigh.utils import IgnorableTag"
   ]
  },
  {
   "cell_type": "code",
   "execution_count": 19,
   "id": "pregnant-skiing",
   "metadata": {},
   "outputs": [
    {
     "data": {
      "text/plain": [
       "{'global': {'var1': 32, 'var2': 42, 'var3': 656, 'var4': 666}, 'TaskA': {'config': {'foo': 5, 'bar': 7, 'properties': {'blabla': 'hello', 'goodbye': 35, 'more_properties': {'lalala': 2, 'lala': 7, 'var2': 42}}}, 'a_magic_number': 32}}"
      ]
     },
     "execution_count": 19,
     "metadata": {},
     "output_type": "execute_result"
    }
   ],
   "source": [
    "def insert_yaml(x, special_tags=None, global_config={}):\n",
    "    yaml_path = x.split('!yaml ')[-1]\n",
    "    inserted_config = Config(yaml_path, special_tags=special_tags)\n",
    "    global_config.update(inserted_config.get('global', {}))\n",
    "    if 'global' in inserted_config:\n",
    "        inserted_config.pop('global')\n",
    "    return process_tags(inserted_config, global_config)\n",
    "\n",
    "def identity(x, special_tags=None, global_config={}):\n",
    "    return x\n",
    "\n",
    "def replace_var(x, special_tags=None, global_config={}):\n",
    "    var_name = x.split('!var ')[-1]\n",
    "    return global_config.get(var_name, x)\n",
    "\n",
    "ignorable_tags = {'yaml': insert_yaml,\n",
    "                  'no-cache': identity,\n",
    "                  'var': replace_var}\n",
    "\n",
    "def process_tags(conf, global_config):\n",
    "    for tag_name, tag_processor in ignorable_tags.items():\n",
    "        tag_paths = conf.find_path('!{}'.format(tag_name), mode='startswith')\n",
    "        for p in tag_paths:\n",
    "            conf[p] = tag_processor(conf[p], \n",
    "                                    special_tags=[IgnorableTag('!{}'.format(tag)) for tag in ignorable_tags],\n",
    "                                    global_config = global_config)\n",
    "    return conf\n",
    "        \n",
    "conf = Config('configs/modular_configs/main.yaml',\n",
    "              special_tags=[IgnorableTag('!{}'.format(tag)) for tag in ignorable_tags])\n",
    "\n",
    "process_tags(conf,conf.get('global',{}))"
   ]
  },
  {
   "cell_type": "code",
   "execution_count": 15,
   "id": "sought-vintage",
   "metadata": {},
   "outputs": [
    {
     "data": {
      "text/plain": [
       "{'global': {'var1': 32, 'var2': 42}, 'TaskA': {'config': None, 'a_magic_number': 32}}"
      ]
     },
     "execution_count": 15,
     "metadata": {},
     "output_type": "execute_result"
    }
   ],
   "source": [
    "conf"
   ]
  },
  {
   "cell_type": "code",
   "execution_count": null,
   "id": "specific-bryan",
   "metadata": {},
   "outputs": [],
   "source": []
  }
 ],
 "metadata": {
  "kernelspec": {
   "display_name": "Python 3",
   "language": "python",
   "name": "python3"
  },
  "language_info": {
   "codemirror_mode": {
    "name": "ipython",
    "version": 3
   },
   "file_extension": ".py",
   "mimetype": "text/x-python",
   "name": "python",
   "nbconvert_exporter": "python",
   "pygments_lexer": "ipython3",
   "version": "3.7.6"
  }
 },
 "nbformat": 4,
 "nbformat_minor": 5
}
